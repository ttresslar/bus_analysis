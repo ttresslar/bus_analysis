{
 "cells": [
  {
   "cell_type": "code",
   "execution_count": 7,
   "metadata": {},
   "outputs": [],
   "source": [
    "import pandas as pd\n",
    "from os import listdir\n",
    "import matplotlib.pyplot as plt"
   ]
  },
  {
   "cell_type": "code",
   "execution_count": 3,
   "metadata": {},
   "outputs": [
    {
     "data": {
      "text/plain": [
       "<matplotlib.axes._subplots.AxesSubplot at 0x7ff5f9d735c0>"
      ]
     },
     "execution_count": 3,
     "metadata": {},
     "output_type": "execute_result"
    }
   ],
   "source": [
    "buu = listdir(\"./buupass/\")\n",
    "buu = [b for b in buu if b.endswith(\".csv\")]\n",
    "buu = [b for b in buu if b != \"buupass_places.csv\"]\n",
    "buu_df = [pd.read_csv(\"./buupass/\"+b, index_col=0) for b in buu]\n",
    "buu_df = pd.concat(buu_df, axis=0, ignore_index=True)\n",
    "buu_df.price.plot.hist()\n"
   ]
  },
  {
   "cell_type": "code",
   "execution_count": null,
   "metadata": {},
   "outputs": [],
   "source": [
    "shabiby = listdir(\"./shabiby/\")\n",
    "shabiby = [s for s in shabiby if s.endswith(\".csv\")]\n",
    "shabiby_df = [pd.read_csv(\"./shabiby/\"+s, index_col=0) for s in shabiby]\n",
    "shabiby_df = pd.concat(shabiby_df, axis=0, ignore_index=True)\n",
    "shabiby_df.fare.plot.hist()\n",
    "fig,ax=plt.subplots(figsize=(15,7))\n",
    "shabiby_df.groupby(['origin','destination','date']).mean()['fare'].unstack().plot(ax=ax)"
   ]
  },
  {
   "cell_type": "code",
   "execution_count": null,
   "metadata": {},
   "outputs": [],
   "source": [
    "dar = listdir(\"./dar-express_routes/\")\n",
    "dar = [d for d in dar if d.endswith(\".csv\")]\n",
    "dar_df = [pd.read_csv(\"./dar-express_routes/\"+d, index_col=0) for d in dar]\n",
    "for item in dar_df:\n",
    "    item.columns = map(str.lower, item.columns) #This is to fix discrepencies in the formatting\n",
    "dar_df=pd.concat(dar_df, axis=0, ignore_index=True)\n",
    "dar_df[\"adult fare\"].plot.hist()"
   ]
  },
  {
   "cell_type": "code",
   "execution_count": null,
   "metadata": {},
   "outputs": [],
   "source": []
  }
 ],
 "metadata": {
  "kernelspec": {
   "display_name": "Python 3",
   "language": "python",
   "name": "python3"
  },
  "language_info": {
   "codemirror_mode": {
    "name": "ipython",
    "version": 3
   },
   "file_extension": ".py",
   "mimetype": "text/x-python",
   "name": "python",
   "nbconvert_exporter": "python",
   "pygments_lexer": "ipython3",
   "version": "3.7.3"
  },
  "varInspector": {
   "cols": {
    "lenName": 16,
    "lenType": 16,
    "lenVar": 40
   },
   "kernels_config": {
    "python": {
     "delete_cmd_postfix": "",
     "delete_cmd_prefix": "del ",
     "library": "var_list.py",
     "varRefreshCmd": "print(var_dic_list())"
    },
    "r": {
     "delete_cmd_postfix": ") ",
     "delete_cmd_prefix": "rm(",
     "library": "var_list.r",
     "varRefreshCmd": "cat(var_dic_list()) "
    }
   },
   "types_to_exclude": [
    "module",
    "function",
    "builtin_function_or_method",
    "instance",
    "_Feature"
   ],
   "window_display": true
  }
 },
 "nbformat": 4,
 "nbformat_minor": 2
}
